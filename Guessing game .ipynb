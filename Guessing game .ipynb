{
 "cells": [
  {
   "cell_type": "code",
   "execution_count": 1,
   "metadata": {},
   "outputs": [
    {
     "name": "stdout",
     "output_type": "stream",
     "text": [
      "WELCOME TO GUESS ME!\n",
      "I am thinking of a number between 1 and 100.\n",
      "If your guess is more than 10 away of my number, I'll tell you you're COLD.\n",
      "If your guess is within 10 of my number, I'll tell you you're WARM.\n",
      "If your guess is farther than your most recent guess, I'll say you're getting COLDER.\n",
      "If your guess is closer than your recent guess, I'll say you're getting WARMER.\n",
      "LET'S PLAY.!\n",
      "Enter your guess:1\n",
      "WARM!\n",
      "Enter your guess:2\n",
      "WARMER!\n",
      "Enter your guess:3\n",
      "WARMER!\n",
      "Enter your guess:4\n",
      "Congratulations..!, You guessed it in 4 guesses.!\n"
     ]
    }
   ],
   "source": [
    "print(\"WELCOME TO GUESS ME!\")\n",
    "print(\"I am thinking of a number between 1 and 100.\")\n",
    "print(\"If your guess is more than 10 away of my number, I'll tell you you're COLD.\")\n",
    "print(\"If your guess is within 10 of my number, I'll tell you you're WARM.\")\n",
    "print(\"If your guess is farther than your most recent guess, I'll say you're getting COLDER.\")\n",
    "print(\"If your guess is closer than your recent guess, I'll say you're getting WARMER.\")\n",
    "print(\"LET'S PLAY.!\")\n",
    "guesses = [0]\n",
    "import random \n",
    "num = random.randint(1,100)\n",
    "while True:\n",
    "    guess = int(input(\"Enter your guess:\"))\n",
    "    if guess < 1 or guess > 100:\n",
    "        print(\"You are out of bounds!, Enter a number between 1 and 100:\")\n",
    "        continue\n",
    "    guesses.append(guess)\n",
    "    if guess == num:\n",
    "        print(f\"Congratulations..!, You guessed it in {len(guesses)-1} guesses.!\")\n",
    "        break\n",
    "    if guesses[-2]:\n",
    "        if abs(num - guess) < abs(num - guesses[-2]):\n",
    "            print(\"WARMER!\")\n",
    "        else:\n",
    "            print(\"COLDER!\")\n",
    "    else:\n",
    "        if abs(num - guess) <= 10:\n",
    "            print(\"WARM!\")\n",
    "        else:\n",
    "            print(\"COLD!\")"
   ]
  },
  {
   "cell_type": "code",
   "execution_count": null,
   "metadata": {},
   "outputs": [],
   "source": []
  },
  {
   "cell_type": "code",
   "execution_count": null,
   "metadata": {},
   "outputs": [],
   "source": []
  }
 ],
 "metadata": {
  "kernelspec": {
   "display_name": "Python 3",
   "language": "python",
   "name": "python3"
  },
  "language_info": {
   "codemirror_mode": {
    "name": "ipython",
    "version": 3
   },
   "file_extension": ".py",
   "mimetype": "text/x-python",
   "name": "python",
   "nbconvert_exporter": "python",
   "pygments_lexer": "ipython3",
   "version": "3.7.0"
  }
 },
 "nbformat": 4,
 "nbformat_minor": 2
}
